{
  "nbformat": 4,
  "nbformat_minor": 0,
  "metadata": {
    "colab": {
      "provenance": [],
      "collapsed_sections": [],
      "authorship_tag": "ABX9TyOoDirafgx8SBC0Rco7pDeD",
      "include_colab_link": true
    },
    "kernelspec": {
      "name": "python3",
      "display_name": "Python 3"
    },
    "language_info": {
      "name": "python"
    }
  },
  "cells": [
    {
      "cell_type": "markdown",
      "metadata": {
        "id": "view-in-github",
        "colab_type": "text"
      },
      "source": [
        "<a href=\"https://colab.research.google.com/github/Pola1217/ECOS-practica6Client/blob/master/Sprint1STI.ipynb\" target=\"_parent\"><img src=\"https://colab.research.google.com/assets/colab-badge.svg\" alt=\"Open In Colab\"/></a>"
      ]
    },
    {
      "cell_type": "code",
      "execution_count": 5,
      "metadata": {
        "id": "AGnSU80pyJzW",
        "colab": {
          "base_uri": "https://localhost:8080/",
          "height": 1000
        },
        "outputId": "465703ef-400a-4b25-9840-fd93e344404f"
      },
      "outputs": [
        {
          "metadata": {
            "tags": null
          },
          "name": "stdout",
          "output_type": "stream",
          "text": [
            "        nombre  edad  altura\n",
            "0      Salomón    21     193\n",
            "1        Laura    23     163\n",
            "2    Valentina    23     160\n",
            "3       Camilo    21     169\n",
            "4       Paula     20     164\n",
            "5      Natalia    20     162\n",
            "6      Nicolas    22     174\n",
            "7      Camila     20     159\n",
            "8        Maria    19     169\n",
            "9          Liz    47     160\n",
            "10    William     64     177\n",
            "11       Oscar    34     168\n",
            "12  Juan Pablo    21     193\n",
            "13  Maria Jose    20     170\n",
            "14   Ana Sofia    22     150\n",
            "15   Guillermo    52     179\n",
            "16      Steven    30     166\n",
            "17     Marcos     23     185\n",
            "18    Isabella    20     165\n",
            "19     Melissa    20     148\n",
            "------------------------------------\n",
            "Seleccione el tipo de filtro que desea hacer para la base de datos \n",
            "na = Por Nombre, Alfabético Ascendente \n",
            "nd = Por Nombre, Alfabético Descendente \n",
            "da = Por Edad, Ascendente \n",
            "dd = Por Edad, Descendente \n",
            "ba = Por Altura, Ascendente \n",
            "bd = Por Altura, Descendente\n",
            "------------------------------------\n",
            "        nombre  edad  altura\n",
            "14   Ana Sofia    22     150\n",
            "7      Camila     20     159\n",
            "3       Camilo    21     169\n",
            "15   Guillermo    52     179\n",
            "18    Isabella    20     165\n",
            "12  Juan Pablo    21     193\n",
            "1        Laura    23     163\n",
            "9          Liz    47     160\n",
            "17     Marcos     23     185\n",
            "8        Maria    19     169\n",
            "13  Maria Jose    20     170\n",
            "19     Melissa    20     148\n",
            "5      Natalia    20     162\n",
            "6      Nicolas    22     174\n",
            "11       Oscar    34     168\n",
            "4       Paula     20     164\n",
            "0      Salomón    21     193\n",
            "16      Steven    30     166\n",
            "2    Valentina    23     160\n",
            "10    William     64     177\n",
            "------------------------------------\n",
            "Seleccione el tipo de filtro que desea hacer para la base de datos \n",
            "na = Por Nombre, Alfabético Ascendente \n",
            "nd = Por Nombre, Alfabético Descendente \n",
            "da = Por Edad, Ascendente \n",
            "dd = Por Edad, Descendente \n",
            "ba = Por Altura, Ascendente \n",
            "bd = Por Altura, Descendente\n",
            "------------------------------------\n"
          ]
        },
        {
          "output_type": "error",
          "ename": "KeyboardInterrupt",
          "evalue": "ignored",
          "traceback": [
            "\u001b[0;31m---------------------------------------------------------------------------\u001b[0m",
            "\u001b[0;31mKeyboardInterrupt\u001b[0m                         Traceback (most recent call last)",
            "\u001b[0;32m<ipython-input-5-0aad9c80e9fc>\u001b[0m in \u001b[0;36m<module>\u001b[0;34m\u001b[0m\n\u001b[1;32m     40\u001b[0m \u001b[0;34m\u001b[0m\u001b[0m\n\u001b[1;32m     41\u001b[0m \u001b[0mprint\u001b[0m\u001b[0;34m(\u001b[0m\u001b[0mdata_base\u001b[0m\u001b[0;34m)\u001b[0m\u001b[0;34m\u001b[0m\u001b[0;34m\u001b[0m\u001b[0m\n\u001b[0;32m---> 42\u001b[0;31m \u001b[0mprinted\u001b[0m\u001b[0;34m(\u001b[0m\u001b[0;34m)\u001b[0m\u001b[0;34m\u001b[0m\u001b[0;34m\u001b[0m\u001b[0m\n\u001b[0m",
            "\u001b[0;32m<ipython-input-5-0aad9c80e9fc>\u001b[0m in \u001b[0;36mprinted\u001b[0;34m()\u001b[0m\n\u001b[1;32m     24\u001b[0m \u001b[0;34m\u001b[0m\u001b[0m\n\u001b[1;32m     25\u001b[0m     \u001b[0;32mif\u001b[0m \u001b[0muser_input\u001b[0m \u001b[0;34m==\u001b[0m \u001b[0;34m'na'\u001b[0m\u001b[0;34m:\u001b[0m\u001b[0;34m\u001b[0m\u001b[0;34m\u001b[0m\u001b[0m\n\u001b[0;32m---> 26\u001b[0;31m       \u001b[0msortData\u001b[0m\u001b[0;34m(\u001b[0m\u001b[0;34m'nombre'\u001b[0m\u001b[0;34m,\u001b[0m \u001b[0;32mTrue\u001b[0m\u001b[0;34m)\u001b[0m\u001b[0;34m\u001b[0m\u001b[0;34m\u001b[0m\u001b[0m\n\u001b[0m\u001b[1;32m     27\u001b[0m     \u001b[0;32melif\u001b[0m \u001b[0muser_input\u001b[0m \u001b[0;34m==\u001b[0m \u001b[0;34m'nd'\u001b[0m\u001b[0;34m:\u001b[0m\u001b[0;34m\u001b[0m\u001b[0;34m\u001b[0m\u001b[0m\n\u001b[1;32m     28\u001b[0m       \u001b[0msortData\u001b[0m\u001b[0;34m(\u001b[0m\u001b[0;34m'nombre'\u001b[0m\u001b[0;34m,\u001b[0m \u001b[0;32mFalse\u001b[0m\u001b[0;34m)\u001b[0m\u001b[0;34m\u001b[0m\u001b[0;34m\u001b[0m\u001b[0m\n",
            "\u001b[0;32m<ipython-input-5-0aad9c80e9fc>\u001b[0m in \u001b[0;36msortData\u001b[0;34m(value, isAscending)\u001b[0m\n\u001b[1;32m     15\u001b[0m \u001b[0;34m\u001b[0m\u001b[0m\n\u001b[1;32m     16\u001b[0m     \u001b[0mprint\u001b[0m\u001b[0;34m(\u001b[0m\u001b[0msortedDataBase\u001b[0m\u001b[0;34m)\u001b[0m\u001b[0;34m\u001b[0m\u001b[0;34m\u001b[0m\u001b[0m\n\u001b[0;32m---> 17\u001b[0;31m     \u001b[0mprinted\u001b[0m\u001b[0;34m(\u001b[0m\u001b[0;34m)\u001b[0m\u001b[0;34m\u001b[0m\u001b[0;34m\u001b[0m\u001b[0m\n\u001b[0m\u001b[1;32m     18\u001b[0m \u001b[0;34m\u001b[0m\u001b[0m\n\u001b[1;32m     19\u001b[0m \u001b[0;32mdef\u001b[0m \u001b[0mprinted\u001b[0m \u001b[0;34m(\u001b[0m\u001b[0;34m)\u001b[0m\u001b[0;34m:\u001b[0m\u001b[0;34m\u001b[0m\u001b[0;34m\u001b[0m\u001b[0m\n",
            "\u001b[0;32m<ipython-input-5-0aad9c80e9fc>\u001b[0m in \u001b[0;36mprinted\u001b[0;34m()\u001b[0m\n\u001b[1;32m     21\u001b[0m     \u001b[0mprint\u001b[0m\u001b[0;34m(\u001b[0m\u001b[0;34m\"Seleccione el tipo de filtro que desea hacer para la base de datos \\nna = Por Nombre, Alfabético Ascendente \\nnd = Por Nombre, Alfabético Descendente \\nda = Por Edad, Ascendente \\ndd = Por Edad, Descendente \\nba = Por Altura, Ascendente \\nbd = Por Altura, Descendente\"\u001b[0m\u001b[0;34m)\u001b[0m\u001b[0;34m\u001b[0m\u001b[0;34m\u001b[0m\u001b[0m\n\u001b[1;32m     22\u001b[0m     \u001b[0mprint\u001b[0m\u001b[0;34m(\u001b[0m\u001b[0;34m\"------------------------------------\"\u001b[0m\u001b[0;34m)\u001b[0m\u001b[0;34m\u001b[0m\u001b[0;34m\u001b[0m\u001b[0m\n\u001b[0;32m---> 23\u001b[0;31m     \u001b[0muser_input\u001b[0m \u001b[0;34m=\u001b[0m \u001b[0minput\u001b[0m\u001b[0;34m(\u001b[0m\u001b[0;34m)\u001b[0m\u001b[0;34m\u001b[0m\u001b[0;34m\u001b[0m\u001b[0m\n\u001b[0m\u001b[1;32m     24\u001b[0m \u001b[0;34m\u001b[0m\u001b[0m\n\u001b[1;32m     25\u001b[0m     \u001b[0;32mif\u001b[0m \u001b[0muser_input\u001b[0m \u001b[0;34m==\u001b[0m \u001b[0;34m'na'\u001b[0m\u001b[0;34m:\u001b[0m\u001b[0;34m\u001b[0m\u001b[0;34m\u001b[0m\u001b[0m\n",
            "\u001b[0;32m/usr/local/lib/python3.7/dist-packages/ipykernel/kernelbase.py\u001b[0m in \u001b[0;36mraw_input\u001b[0;34m(self, prompt)\u001b[0m\n\u001b[1;32m    861\u001b[0m             \u001b[0mself\u001b[0m\u001b[0;34m.\u001b[0m\u001b[0m_parent_ident\u001b[0m\u001b[0;34m,\u001b[0m\u001b[0;34m\u001b[0m\u001b[0;34m\u001b[0m\u001b[0m\n\u001b[1;32m    862\u001b[0m             \u001b[0mself\u001b[0m\u001b[0;34m.\u001b[0m\u001b[0m_parent_header\u001b[0m\u001b[0;34m,\u001b[0m\u001b[0;34m\u001b[0m\u001b[0;34m\u001b[0m\u001b[0m\n\u001b[0;32m--> 863\u001b[0;31m             \u001b[0mpassword\u001b[0m\u001b[0;34m=\u001b[0m\u001b[0;32mFalse\u001b[0m\u001b[0;34m,\u001b[0m\u001b[0;34m\u001b[0m\u001b[0;34m\u001b[0m\u001b[0m\n\u001b[0m\u001b[1;32m    864\u001b[0m         )\n\u001b[1;32m    865\u001b[0m \u001b[0;34m\u001b[0m\u001b[0m\n",
            "\u001b[0;32m/usr/local/lib/python3.7/dist-packages/ipykernel/kernelbase.py\u001b[0m in \u001b[0;36m_input_request\u001b[0;34m(self, prompt, ident, parent, password)\u001b[0m\n\u001b[1;32m    902\u001b[0m             \u001b[0;32mexcept\u001b[0m \u001b[0mKeyboardInterrupt\u001b[0m\u001b[0;34m:\u001b[0m\u001b[0;34m\u001b[0m\u001b[0;34m\u001b[0m\u001b[0m\n\u001b[1;32m    903\u001b[0m                 \u001b[0;31m# re-raise KeyboardInterrupt, to truncate traceback\u001b[0m\u001b[0;34m\u001b[0m\u001b[0;34m\u001b[0m\u001b[0;34m\u001b[0m\u001b[0m\n\u001b[0;32m--> 904\u001b[0;31m                 \u001b[0;32mraise\u001b[0m \u001b[0mKeyboardInterrupt\u001b[0m\u001b[0;34m(\u001b[0m\u001b[0;34m\"Interrupted by user\"\u001b[0m\u001b[0;34m)\u001b[0m \u001b[0;32mfrom\u001b[0m \u001b[0;32mNone\u001b[0m\u001b[0;34m\u001b[0m\u001b[0;34m\u001b[0m\u001b[0m\n\u001b[0m\u001b[1;32m    905\u001b[0m             \u001b[0;32mexcept\u001b[0m \u001b[0mException\u001b[0m \u001b[0;32mas\u001b[0m \u001b[0me\u001b[0m\u001b[0;34m:\u001b[0m\u001b[0;34m\u001b[0m\u001b[0;34m\u001b[0m\u001b[0m\n\u001b[1;32m    906\u001b[0m                 \u001b[0mself\u001b[0m\u001b[0;34m.\u001b[0m\u001b[0mlog\u001b[0m\u001b[0;34m.\u001b[0m\u001b[0mwarning\u001b[0m\u001b[0;34m(\u001b[0m\u001b[0;34m\"Invalid Message:\"\u001b[0m\u001b[0;34m,\u001b[0m \u001b[0mexc_info\u001b[0m\u001b[0;34m=\u001b[0m\u001b[0;32mTrue\u001b[0m\u001b[0;34m)\u001b[0m\u001b[0;34m\u001b[0m\u001b[0;34m\u001b[0m\u001b[0m\n",
            "\u001b[0;31mKeyboardInterrupt\u001b[0m: Interrupted by user"
          ]
        }
      ],
      "source": [
        "import pandas as pd\n",
        "import numpy as np\n",
        "\n",
        "data_base = pd.read_csv('baseDeDatos.csv')\n",
        "def sortData(value, isAscending):\n",
        "    \n",
        "    sortedDataBase = 0\n",
        "    \n",
        "    if isAscending == True:\n",
        "      sortedDataBase = data_base.sort_values(by=value)\n",
        "    elif isAscending == False:\n",
        "      sortedDataBase = data_base.sort_values(by=value, ascending=False)\n",
        "    else:\n",
        "      sortedDataBase = \"Término no compatible\"\n",
        "    \n",
        "    print(sortedDataBase)\n",
        "    printed()\n",
        "    \n",
        "def printed ():\n",
        "    print(\"------------------------------------\")\n",
        "    print(\"Seleccione el tipo de filtro que desea hacer para la base de datos \\nna = Por Nombre, Alfabético Ascendente \\nnd = Por Nombre, Alfabético Descendente \\nda = Por Edad, Ascendente \\ndd = Por Edad, Descendente \\nba = Por Altura, Ascendente \\nbd = Por Altura, Descendente\")\n",
        "    print(\"------------------------------------\")\n",
        "    user_input = input()\n",
        "\n",
        "    if user_input == 'na':\n",
        "      sortData('nombre', True)\n",
        "    elif user_input == 'nd':\n",
        "      sortData('nombre', False)\n",
        "    elif user_input == 'da':\n",
        "        sortData('edad', True)\n",
        "    elif user_input == 'dd':\n",
        "        sortData('edad', False)\n",
        "    elif user_input == 'ba':\n",
        "        sortData('altura', True)\n",
        "    elif user_input == 'bd':\n",
        "        sortData('altura', False)\n",
        "    else:\n",
        "        print(\"Término no válido, por favor escoja otro número\")\n",
        "\n",
        "            \n",
        "print(data_base)\n",
        "printed()"
      ]
    }
  ]
}